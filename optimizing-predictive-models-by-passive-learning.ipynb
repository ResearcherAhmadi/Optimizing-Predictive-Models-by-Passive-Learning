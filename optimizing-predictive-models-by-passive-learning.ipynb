{
 "cells": [
  {
   "cell_type": "markdown",
   "id": "89d3c531",
   "metadata": {
    "papermill": {
     "duration": 0.008131,
     "end_time": "2023-09-09T09:37:51.814803",
     "exception": false,
     "start_time": "2023-09-09T09:37:51.806672",
     "status": "completed"
    },
    "tags": []
   },
   "source": [
    "# This code provides a basic implementation of passive learning using the PassiveLearner class. It demonstrates how to fit training data, make predictions, and obtain the mean of the training labels as predictions."
   ]
  },
  {
   "cell_type": "code",
   "execution_count": 1,
   "id": "cd242b61",
   "metadata": {
    "_cell_guid": "b1076dfc-b9ad-4769-8c92-a6c4dae69d19",
    "_uuid": "8f2839f25d086af736a60e9eeb907d3b93b6e0e5",
    "execution": {
     "iopub.execute_input": "2023-09-09T09:37:51.832177Z",
     "iopub.status.busy": "2023-09-09T09:37:51.830815Z",
     "iopub.status.idle": "2023-09-09T09:37:51.846385Z",
     "shell.execute_reply": "2023-09-09T09:37:51.845182Z"
    },
    "papermill": {
     "duration": 0.026671,
     "end_time": "2023-09-09T09:37:51.849039",
     "exception": false,
     "start_time": "2023-09-09T09:37:51.822368",
     "status": "completed"
    },
    "tags": []
   },
   "outputs": [],
   "source": [
    "import numpy as np\n",
    "\n",
    "class PassiveLearner:\n",
    "    def __init__(self):\n",
    "        self.X = None\n",
    "        self.y = None\n",
    "        \n",
    "    def fit(self, X, y):\n",
    "        if self.X is None:\n",
    "            self.X = X\n",
    "            self.y = y\n",
    "        else:\n",
    "            self.X = np.vstack((self.X, X))\n",
    "            self.y = np.concatenate((self.y, y))\n",
    "            \n",
    "    def predict(self, X):\n",
    "        # Passive learner simply returns the mean of y values seen during training\n",
    "        return np.mean(self.y)\n"
   ]
  },
  {
   "cell_type": "markdown",
   "id": "6f2b4d31",
   "metadata": {
    "papermill": {
     "duration": 0.006651,
     "end_time": "2023-09-09T09:37:51.862985",
     "exception": false,
     "start_time": "2023-09-09T09:37:51.856334",
     "status": "completed"
    },
    "tags": []
   },
   "source": [
    "**The code above demonstrates a simple implementation of the PassiveLearner class. The PassiveLearner class is designed to perform passive learning, which involves aggregating training data incrementally.**\n",
    "\n",
    "**To use the PassiveLearner class, create an instance of the class:**"
   ]
  },
  {
   "cell_type": "code",
   "execution_count": 2,
   "id": "99dcca56",
   "metadata": {
    "execution": {
     "iopub.execute_input": "2023-09-09T09:37:51.878344Z",
     "iopub.status.busy": "2023-09-09T09:37:51.877954Z",
     "iopub.status.idle": "2023-09-09T09:37:51.883436Z",
     "shell.execute_reply": "2023-09-09T09:37:51.882191Z"
    },
    "papermill": {
     "duration": 0.016031,
     "end_time": "2023-09-09T09:37:51.885860",
     "exception": false,
     "start_time": "2023-09-09T09:37:51.869829",
     "status": "completed"
    },
    "tags": []
   },
   "outputs": [],
   "source": [
    "learner = PassiveLearner()"
   ]
  },
  {
   "cell_type": "markdown",
   "id": "19784797",
   "metadata": {
    "papermill": {
     "duration": 0.00722,
     "end_time": "2023-09-09T09:37:51.900364",
     "exception": false,
     "start_time": "2023-09-09T09:37:51.893144",
     "status": "completed"
    },
    "tags": []
   },
   "source": [
    "**You can then simulate some training data by defining the input features (X_train) and corresponding labels (y_train):**"
   ]
  },
  {
   "cell_type": "code",
   "execution_count": 3,
   "id": "f708043d",
   "metadata": {
    "execution": {
     "iopub.execute_input": "2023-09-09T09:37:51.916611Z",
     "iopub.status.busy": "2023-09-09T09:37:51.915900Z",
     "iopub.status.idle": "2023-09-09T09:37:51.920648Z",
     "shell.execute_reply": "2023-09-09T09:37:51.919834Z"
    },
    "papermill": {
     "duration": 0.015579,
     "end_time": "2023-09-09T09:37:51.923033",
     "exception": false,
     "start_time": "2023-09-09T09:37:51.907454",
     "status": "completed"
    },
    "tags": []
   },
   "outputs": [],
   "source": [
    "X_train = np.array([[1, 2], [3, 4], [5, 6]])\n",
    "y_train = np.array([10, 20, 30])"
   ]
  },
  {
   "cell_type": "markdown",
   "id": "19b661f5",
   "metadata": {
    "papermill": {
     "duration": 0.006665,
     "end_time": "2023-09-09T09:37:51.937051",
     "exception": false,
     "start_time": "2023-09-09T09:37:51.930386",
     "status": "completed"
    },
    "tags": []
   },
   "source": [
    "**Fit the training data to the learner using the fit method:**"
   ]
  },
  {
   "cell_type": "code",
   "execution_count": 4,
   "id": "20605ee1",
   "metadata": {
    "execution": {
     "iopub.execute_input": "2023-09-09T09:37:51.952630Z",
     "iopub.status.busy": "2023-09-09T09:37:51.952207Z",
     "iopub.status.idle": "2023-09-09T09:37:51.956842Z",
     "shell.execute_reply": "2023-09-09T09:37:51.955795Z"
    },
    "papermill": {
     "duration": 0.016036,
     "end_time": "2023-09-09T09:37:51.959890",
     "exception": false,
     "start_time": "2023-09-09T09:37:51.943854",
     "status": "completed"
    },
    "tags": []
   },
   "outputs": [],
   "source": [
    "learner.fit(X_train, y_train)"
   ]
  },
  {
   "cell_type": "markdown",
   "id": "f52fe05d",
   "metadata": {
    "papermill": {
     "duration": 0.006579,
     "end_time": "2023-09-09T09:37:51.974133",
     "exception": false,
     "start_time": "2023-09-09T09:37:51.967554",
     "status": "completed"
    },
    "tags": []
   },
   "source": [
    "**The fit method appends the input features X_train and labels y_train to the existing training data in the learner. If there is no existing training data, it assigns the new data.**\n",
    "\n",
    "**Next, simulate some test data by defining the input features (X_test):**"
   ]
  },
  {
   "cell_type": "code",
   "execution_count": 5,
   "id": "87e71b07",
   "metadata": {
    "execution": {
     "iopub.execute_input": "2023-09-09T09:37:51.989708Z",
     "iopub.status.busy": "2023-09-09T09:37:51.989219Z",
     "iopub.status.idle": "2023-09-09T09:37:51.994880Z",
     "shell.execute_reply": "2023-09-09T09:37:51.993711Z"
    },
    "papermill": {
     "duration": 0.016749,
     "end_time": "2023-09-09T09:37:51.997602",
     "exception": false,
     "start_time": "2023-09-09T09:37:51.980853",
     "status": "completed"
    },
    "tags": []
   },
   "outputs": [],
   "source": [
    "X_test = np.array([[7, 8], [9, 10]])"
   ]
  },
  {
   "cell_type": "markdown",
   "id": "476fc321",
   "metadata": {
    "papermill": {
     "duration": 0.006594,
     "end_time": "2023-09-09T09:37:52.011466",
     "exception": false,
     "start_time": "2023-09-09T09:37:52.004872",
     "status": "completed"
    },
    "tags": []
   },
   "source": [
    "**To make predictions on the test data, use the predict method:**"
   ]
  },
  {
   "cell_type": "code",
   "execution_count": 6,
   "id": "eedf6bde",
   "metadata": {
    "execution": {
     "iopub.execute_input": "2023-09-09T09:37:52.027530Z",
     "iopub.status.busy": "2023-09-09T09:37:52.027047Z",
     "iopub.status.idle": "2023-09-09T09:37:52.032767Z",
     "shell.execute_reply": "2023-09-09T09:37:52.031524Z"
    },
    "papermill": {
     "duration": 0.016494,
     "end_time": "2023-09-09T09:37:52.035120",
     "exception": false,
     "start_time": "2023-09-09T09:37:52.018626",
     "status": "completed"
    },
    "tags": []
   },
   "outputs": [],
   "source": [
    "prediction_data = learner.predict(X_test)"
   ]
  },
  {
   "cell_type": "markdown",
   "id": "4baf1975",
   "metadata": {
    "papermill": {
     "duration": 0.0065,
     "end_time": "2023-09-09T09:37:52.048610",
     "exception": false,
     "start_time": "2023-09-09T09:37:52.042110",
     "status": "completed"
    },
    "tags": []
   },
   "source": [
    "**The predict method in this example simply returns the mean of the y values seen during training.**\n",
    "**Finally, you can print the predictions:**"
   ]
  },
  {
   "cell_type": "code",
   "execution_count": 7,
   "id": "0ba0ffea",
   "metadata": {
    "execution": {
     "iopub.execute_input": "2023-09-09T09:37:52.064945Z",
     "iopub.status.busy": "2023-09-09T09:37:52.064085Z",
     "iopub.status.idle": "2023-09-09T09:37:52.070712Z",
     "shell.execute_reply": "2023-09-09T09:37:52.069550Z"
    },
    "papermill": {
     "duration": 0.017599,
     "end_time": "2023-09-09T09:37:52.073149",
     "exception": false,
     "start_time": "2023-09-09T09:37:52.055550",
     "status": "completed"
    },
    "tags": []
   },
   "outputs": [
    {
     "name": "stdout",
     "output_type": "stream",
     "text": [
      "20.0\n"
     ]
    }
   ],
   "source": [
    "print(prediction_data)  # Output: 20.0"
   ]
  },
  {
   "cell_type": "markdown",
   "id": "642bcd61",
   "metadata": {
    "papermill": {
     "duration": 0.006709,
     "end_time": "2023-09-09T09:37:52.087022",
     "exception": false,
     "start_time": "2023-09-09T09:37:52.080313",
     "status": "completed"
    },
    "tags": []
   },
   "source": [
    "**In this case, the output will be 20.0, which is the mean of the training labels.**"
   ]
  },
  {
   "cell_type": "markdown",
   "id": "f15c237d",
   "metadata": {
    "papermill": {
     "duration": 0.006595,
     "end_time": "2023-09-09T09:37:52.100724",
     "exception": false,
     "start_time": "2023-09-09T09:37:52.094129",
     "status": "completed"
    },
    "tags": []
   },
   "source": [
    "# Good Luck"
   ]
  }
 ],
 "kernelspec": {
  "display_name": "Python 3",
  "language": "python",
  "name": "python3"
 },
 "language_info": {
  "codemirror_mode": {
   "name": "ipython",
   "version": 3
  },
  "file_extension": ".py",
  "mimetype": "text/x-python",
  "name": "python",
  "nbconvert_exporter": "python",
  "pygments_lexer": "ipython3",
  "version": "3.6.4"
 },
 "metadata": {
  "kernelspec": {
   "display_name": "Python 3",
   "language": "python",
   "name": "python3"
  },
  "language_info": {
   "codemirror_mode": {
    "name": "ipython",
    "version": 3
   },
   "file_extension": ".py",
   "mimetype": "text/x-python",
   "name": "python",
   "nbconvert_exporter": "python",
   "pygments_lexer": "ipython3",
   "version": "3.10.12"
  },
  "papermill": {
   "default_parameters": {},
   "duration": 4.332247,
   "end_time": "2023-09-09T09:37:52.529591",
   "environment_variables": {},
   "exception": null,
   "input_path": "__notebook__.ipynb",
   "output_path": "__notebook__.ipynb",
   "parameters": {},
   "start_time": "2023-09-09T09:37:48.197344",
   "version": "2.4.0"
  }
 },
 "nbformat": 4,
 "nbformat_minor": 5
}
